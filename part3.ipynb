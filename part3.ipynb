{
 "nbformat": 4,
 "nbformat_minor": 2,
 "metadata": {
  "language_info": {
   "name": "python",
   "codemirror_mode": {
    "name": "ipython",
    "version": 3
   }
  },
  "orig_nbformat": 2,
  "file_extension": ".py",
  "mimetype": "text/x-python",
  "name": "python",
  "npconvert_exporter": "python",
  "pygments_lexer": "ipython3",
  "version": 3,
  "kernelspec": {
   "name": "python3",
   "display_name": "Python 3"
  }
 },
 "cells": [
  {
   "cell_type": "code",
   "execution_count": 1,
   "metadata": {},
   "outputs": [],
   "source": [
    "import pandas as pd\n",
    "from part3_pricing_model import PricingModel\n",
    "from sklearn.model_selection import train_test_split"
   ]
  },
  {
   "cell_type": "code",
   "execution_count": 2,
   "metadata": {},
   "outputs": [],
   "source": [
    "data = pd.read_csv(\"part3_training_data.csv\")\n",
    "X_raw = data.drop(columns=[\"claim_amount\", \"made_claim\"])\n",
    "y_raw = data[\"made_claim\"]\n",
    "claims_raw = data['claim_amount']\n",
    "test_ratio = 0.2\n",
    "X_train, X_test, y_train, y_test = train_test_split(X_raw, y_raw, test_size=test_ratio)"
   ]
  },
  {
   "cell_type": "code",
   "execution_count": 4,
   "metadata": {},
   "outputs": [
    {
     "data": {
      "text/html": "<div>\n<style scoped>\n    .dataframe tbody tr th:only-of-type {\n        vertical-align: middle;\n    }\n\n    .dataframe tbody tr th {\n        vertical-align: top;\n    }\n\n    .dataframe thead th {\n        text-align: right;\n    }\n</style>\n<table border=\"1\" class=\"dataframe\">\n  <thead>\n    <tr style=\"text-align: right;\">\n      <th></th>\n      <th>id_policy</th>\n      <th>pol_bonus</th>\n      <th>pol_coverage</th>\n      <th>pol_duration</th>\n      <th>pol_sit_duration</th>\n      <th>pol_pay_freq</th>\n      <th>pol_payd</th>\n      <th>pol_usage</th>\n      <th>pol_insee_code</th>\n      <th>drv_drv2</th>\n      <th>...</th>\n      <th>vh_type</th>\n      <th>vh_value</th>\n      <th>vh_weight</th>\n      <th>town_mean_altitude</th>\n      <th>town_surface_area</th>\n      <th>population</th>\n      <th>commune_code</th>\n      <th>canton_code</th>\n      <th>city_district_code</th>\n      <th>regional_department_code</th>\n    </tr>\n  </thead>\n  <tbody>\n    <tr>\n      <td>0</td>\n      <td>A00013211-V01</td>\n      <td>0.5</td>\n      <td>Maxi</td>\n      <td>36</td>\n      <td>6</td>\n      <td>Biannual</td>\n      <td>No</td>\n      <td>Retired</td>\n      <td>68269</td>\n      <td>No</td>\n      <td>...</td>\n      <td>Tourism</td>\n      <td>17517</td>\n      <td>1260</td>\n      <td>526.0</td>\n      <td>3216.0</td>\n      <td>4.8</td>\n      <td>269.0</td>\n      <td>20.0</td>\n      <td>5.0</td>\n      <td>68</td>\n    </tr>\n    <tr>\n      <td>1</td>\n      <td>A00040885-V01</td>\n      <td>0.5</td>\n      <td>Maxi</td>\n      <td>15</td>\n      <td>5</td>\n      <td>Yearly</td>\n      <td>No</td>\n      <td>WorkPrivate</td>\n      <td>29019</td>\n      <td>Yes</td>\n      <td>...</td>\n      <td>Tourism</td>\n      <td>21500</td>\n      <td>1480</td>\n      <td>57.0</td>\n      <td>4912.0</td>\n      <td>141.3</td>\n      <td>19.0</td>\n      <td>99.0</td>\n      <td>1.0</td>\n      <td>29</td>\n    </tr>\n    <tr>\n      <td>2</td>\n      <td>A00044495-V01</td>\n      <td>0.5</td>\n      <td>Mini</td>\n      <td>16</td>\n      <td>6</td>\n      <td>Monthly</td>\n      <td>No</td>\n      <td>Professional</td>\n      <td>13080</td>\n      <td>No</td>\n      <td>...</td>\n      <td>Commercial</td>\n      <td>23600</td>\n      <td>2931</td>\n      <td>257.0</td>\n      <td>4488.0</td>\n      <td>5.3</td>\n      <td>80.0</td>\n      <td>27.0</td>\n      <td>1.0</td>\n      <td>13</td>\n    </tr>\n    <tr>\n      <td>3</td>\n      <td>A00047266-V01</td>\n      <td>0.5</td>\n      <td>Maxi</td>\n      <td>11</td>\n      <td>7</td>\n      <td>Biannual</td>\n      <td>No</td>\n      <td>WorkPrivate</td>\n      <td>10387</td>\n      <td>No</td>\n      <td>...</td>\n      <td>Tourism</td>\n      <td>13050</td>\n      <td>930</td>\n      <td>109.0</td>\n      <td>1339.0</td>\n      <td>61.2</td>\n      <td>387.0</td>\n      <td>99.0</td>\n      <td>3.0</td>\n      <td>10</td>\n    </tr>\n    <tr>\n      <td>4</td>\n      <td>A00074532-V01</td>\n      <td>0.5</td>\n      <td>Median2</td>\n      <td>16</td>\n      <td>6</td>\n      <td>Biannual</td>\n      <td>No</td>\n      <td>WorkPrivate</td>\n      <td>59153</td>\n      <td>Yes</td>\n      <td>...</td>\n      <td>Tourism</td>\n      <td>17974</td>\n      <td>1035</td>\n      <td>24.0</td>\n      <td>1849.0</td>\n      <td>9.7</td>\n      <td>153.0</td>\n      <td>19.0</td>\n      <td>6.0</td>\n      <td>59</td>\n    </tr>\n  </tbody>\n</table>\n<p>5 rows × 35 columns</p>\n</div>",
      "text/plain": "       id_policy  pol_bonus pol_coverage  pol_duration  pol_sit_duration  \\\n0  A00013211-V01        0.5         Maxi            36                 6   \n1  A00040885-V01        0.5         Maxi            15                 5   \n2  A00044495-V01        0.5         Mini            16                 6   \n3  A00047266-V01        0.5         Maxi            11                 7   \n4  A00074532-V01        0.5      Median2            16                 6   \n\n  pol_pay_freq pol_payd     pol_usage pol_insee_code drv_drv2  ...  \\\n0     Biannual       No       Retired          68269       No  ...   \n1       Yearly       No   WorkPrivate          29019      Yes  ...   \n2      Monthly       No  Professional          13080       No  ...   \n3     Biannual       No   WorkPrivate          10387       No  ...   \n4     Biannual       No   WorkPrivate          59153      Yes  ...   \n\n      vh_type  vh_value vh_weight town_mean_altitude  town_surface_area  \\\n0     Tourism     17517      1260              526.0             3216.0   \n1     Tourism     21500      1480               57.0             4912.0   \n2  Commercial     23600      2931              257.0             4488.0   \n3     Tourism     13050       930              109.0             1339.0   \n4     Tourism     17974      1035               24.0             1849.0   \n\n   population  commune_code  canton_code  city_district_code  \\\n0         4.8         269.0         20.0                 5.0   \n1       141.3          19.0         99.0                 1.0   \n2         5.3          80.0         27.0                 1.0   \n3        61.2         387.0         99.0                 3.0   \n4         9.7         153.0         19.0                 6.0   \n\n  regional_department_code  \n0                       68  \n1                       29  \n2                       13  \n3                       10  \n4                       59  \n\n[5 rows x 35 columns]"
     },
     "execution_count": 4,
     "metadata": {},
     "output_type": "execute_result"
    }
   ],
   "source": [
    "X_raw.head()"
   ]
  },
  {
   "cell_type": "code",
   "execution_count": 3,
   "metadata": {},
   "outputs": [
    {
     "data": {
      "text/plain": "0    0\n1    0\n2    0\n3    0\n4    0\nName: made_claim, dtype: int64"
     },
     "execution_count": 3,
     "metadata": {},
     "output_type": "execute_result"
    }
   ],
   "source": [
    "y_raw.head()"
   ]
  },
  {
   "cell_type": "code",
   "execution_count": 5,
   "metadata": {},
   "outputs": [
    {
     "data": {
      "text/plain": "0    0.0\n1    0.0\n2    0.0\n3    0.0\n4    0.0\nName: claim_amount, dtype: float64"
     },
     "execution_count": 5,
     "metadata": {},
     "output_type": "execute_result"
    }
   ],
   "source": [
    "claims_raw.head()"
   ]
  },
  {
   "cell_type": "code",
   "execution_count": 6,
   "metadata": {},
   "outputs": [],
   "source": [
    "num_features = 13\n",
    "pricing_model = PricingModel(epoch=100, batchsize=128, learnrate=0.01, neurons=9, num_features=num_features)"
   ]
  },
  {
   "cell_type": "code",
   "execution_count": 7,
   "metadata": {},
   "outputs": [],
   "source": [
    "X_clean = pricing_model._preprocessor(X_raw)"
   ]
  },
  {
   "cell_type": "code",
   "execution_count": 8,
   "metadata": {},
   "outputs": [
    {
     "data": {
      "text/plain": "0.09146310752958953"
     },
     "execution_count": 8,
     "metadata": {},
     "output_type": "execute_result"
    }
   ],
   "source": [
    "y_raw[y_raw != 0].shape[0] / y_raw.shape[0]"
   ]
  },
  {
   "cell_type": "code",
   "execution_count": 9,
   "metadata": {},
   "outputs": [
    {
     "name": "stdout",
     "output_type": "stream",
     "text": "[epoch:    1] loss: 0.695\n[epoch:    2] loss: 0.694\n[epoch:    3] loss: 0.693\n[epoch:    4] loss: 0.693\n[epoch:    5] loss: 0.693\n[epoch:    6] loss: 0.693\n[epoch:    7] loss: 0.693\n[epoch:    8] loss: 0.693\n[epoch:    9] loss: 0.693\n[epoch:   10] loss: 0.693\n[epoch:   11] loss: 0.693\n[epoch:   12] loss: 0.693\n[epoch:   13] loss: 0.693\n[epoch:   14] loss: 0.693\n[epoch:   15] loss: 0.693\n[epoch:   16] loss: 0.693\n[epoch:   17] loss: 0.693\n[epoch:   18] loss: 0.693\n[epoch:   19] loss: 0.693\n[epoch:   20] loss: 0.693\n"
    }
   ],
   "source": [
    "pricing_model.fit(X_train, y_train, claims_raw)"
   ]
  },
  {
   "cell_type": "code",
   "execution_count": null,
   "metadata": {},
   "outputs": [],
   "source": [
    "y_pred = pricing_model.predict_claim_probability(X_test)"
   ]
  },
  {
   "cell_type": "code",
   "execution_count": null,
   "metadata": {},
   "outputs": [],
   "source": [
    "y_pred[y_pred > 0.1]"
   ]
  },
  {
   "cell_type": "code",
   "execution_count": null,
   "metadata": {},
   "outputs": [],
   "source": [
    "pricing_model.evaluate_architecture(X_test, y_test)"
   ]
  },
  {
   "cell_type": "code",
   "execution_count": null,
   "metadata": {},
   "outputs": [],
   "source": []
  }
 ]
}